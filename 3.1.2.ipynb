{
 "cells": [
  {
   "cell_type": "markdown",
   "metadata": {},
   "source": [
    "## Сулейманов Руслан группа к3141\n",
    "Отчет по заданию из степика 3.1.2"
   ]
  },
  {
   "cell_type": "code",
   "execution_count": 158,
   "metadata": {},
   "outputs": [],
   "source": [
    "%matplotlib inline\n",
    "from skimage.io import imread, imsave, imshow\n",
    "from skimage import img_as_float,img_as_ubyte\n",
    "from numpy import array_equal,histogram, clip\n"
   ]
  },
  {
   "cell_type": "markdown",
   "metadata": {},
   "source": [
    "Находим количество отбрасываемых пикселей:"
   ]
  },
  {
   "cell_type": "code",
   "execution_count": 166,
   "metadata": {},
   "outputs": [
    {
     "name": "stdout",
     "output_type": "stream",
     "text": [
      "480000\n",
      "24000\n"
     ]
    }
   ],
   "source": [
    "img = imread('https://stepik.org/media/attachments/lesson/58402/tiger-low-contrast.png')\n",
    "pix = img.size\n",
    "print(pix)\n",
    "k = round(pix*0.05)\n",
    "print(k)"
   ]
  },
  {
   "cell_type": "markdown",
   "metadata": {},
   "source": [
    "найдем макс и минимальное значение, использовав гистограмму:"
   ]
  },
  {
   "cell_type": "code",
   "execution_count": 168,
   "metadata": {},
   "outputs": [
    {
     "name": "stdout",
     "output_type": "stream",
     "text": [
      "129 208\n"
     ]
    }
   ],
   "source": [
    "h,_ = histogram(img,bins=range(257))\n",
    "count = 0\n",
    "const = 0\n",
    "x_min=0\n",
    "x_max=0\n",
    "flag = True\n",
    "flag2= True\n",
    "for i in range(256):\n",
    "    if flag:\n",
    "        count +=h[i]\n",
    "        if count > k:\n",
    "            x_min = i\n",
    "            flag = False\n",
    "    if flag2:\n",
    "        const +=h[255-i]\n",
    "        if const > k:\n",
    "            x_max = 255-i\n",
    "            flag2 = False\n",
    "    if flag == False and flag2 == False:   \n",
    "        break\n",
    "print(x_min, x_max)"
   ]
  },
  {
   "cell_type": "code",
   "execution_count": null,
   "metadata": {},
   "outputs": [],
   "source": []
  },
  {
   "cell_type": "code",
   "execution_count": null,
   "metadata": {},
   "outputs": [],
   "source": []
  },
  {
   "cell_type": "code",
   "execution_count": null,
   "metadata": {},
   "outputs": [],
   "source": []
  },
  {
   "cell_type": "markdown",
   "metadata": {},
   "source": []
  },
  {
   "cell_type": "code",
   "execution_count": null,
   "metadata": {},
   "outputs": [],
   "source": []
  },
  {
   "cell_type": "code",
   "execution_count": null,
   "metadata": {},
   "outputs": [],
   "source": []
  },
  {
   "cell_type": "markdown",
   "metadata": {},
   "source": []
  },
  {
   "cell_type": "markdown",
   "metadata": {},
   "source": []
  }
 ],
 "metadata": {
  "kernelspec": {
   "display_name": "Python 3",
   "language": "python",
   "name": "python3"
  },
  "language_info": {
   "codemirror_mode": {
    "name": "ipython",
    "version": 3
   },
   "file_extension": ".py",
   "mimetype": "text/x-python",
   "name": "python",
   "nbconvert_exporter": "python",
   "pygments_lexer": "ipython3",
   "version": "3.7.4"
  }
 },
 "nbformat": 4,
 "nbformat_minor": 2
}
